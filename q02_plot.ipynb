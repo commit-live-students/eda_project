{
 "cells": [
  {
   "cell_type": "code",
   "execution_count": 2,
   "metadata": {
    "collapsed": true
   },
   "outputs": [],
   "source": [
    "# %load q02_plot/build.py\n",
    "# Default imports\n",
    "import pandas as pd\n",
    "import matplotlib.pyplot as plt\n",
    "import seaborn as sns\n",
    "\n",
    "data = pd.read_csv('data/house_prices_multivariate.csv')\n",
    "\n",
    "\n",
    "# Write your code here:\n",
    "def plot(num_cols):\n",
    "    facet = None\n",
    "    for i in range(0,len(num_cols),2):\n",
    "        if len(num_cols) > i+1:\n",
    "            plt.figure(figsize=(10,4))\n",
    "            plt.subplot(121)\n",
    "            sns.boxplot(facet, num_cols[i],data = data)\n",
    "            plt.subplot(122)\n",
    "            sns.boxplot(facet, num_cols[i+1],data = data)\n",
    "            plt.tight_layout()\n",
    "            plt.show()\n",
    "\n",
    "        else:\n",
    "            sns.boxplot(facet, num_cols[i],data = train)\n",
    "\n"
   ]
  },
  {
   "cell_type": "code",
   "execution_count": null,
   "metadata": {
    "collapsed": true
   },
   "outputs": [],
   "source": []
  }
 ],
 "metadata": {
  "kernelspec": {
   "display_name": "Python [conda env:py35]",
   "language": "python",
   "name": "conda-env-py35-py"
  },
  "language_info": {
   "codemirror_mode": {
    "name": "ipython",
    "version": 3
   },
   "file_extension": ".py",
   "mimetype": "text/x-python",
   "name": "python",
   "nbconvert_exporter": "python",
   "pygments_lexer": "ipython3",
   "version": "3.5.4"
  },
  "widgets": {
   "state": {},
   "version": "1.1.2"
  }
 },
 "nbformat": 4,
 "nbformat_minor": 2
}
